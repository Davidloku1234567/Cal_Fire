{
 "cells": [
  {
   "cell_type": "code",
   "execution_count": 46,
   "metadata": {},
   "outputs": [],
   "source": [
    "import pandas as pd\n",
    "import codecs\n",
    "import datetime\n",
    "import re\n",
    "from datetime import datetime \n",
    "import matplotlib.pyplot as plt\n",
    "%config InlineBackend.figure_format = 'retina'\n",
    "%matplotlib inline\n",
    "import seaborn as sns\n",
    "from bokeh.plotting import figure, output_file, show"
   ]
  },
  {
   "cell_type": "markdown",
   "metadata": {},
   "source": [
    "## Read in Data"
   ]
  },
  {
   "cell_type": "code",
   "execution_count": 47,
   "metadata": {},
   "outputs": [],
   "source": [
    "df = pd.read_excel('./2013-2018LargeFiresList_Redbook/CAWildlandFires_2013-Feb2020.xlsx', sheet_name='Data')"
   ]
  },
  {
   "cell_type": "code",
   "execution_count": 48,
   "metadata": {},
   "outputs": [
    {
     "data": {
      "text/html": [
       "<div>\n",
       "<style scoped>\n",
       "    .dataframe tbody tr th:only-of-type {\n",
       "        vertical-align: middle;\n",
       "    }\n",
       "\n",
       "    .dataframe tbody tr th {\n",
       "        vertical-align: top;\n",
       "    }\n",
       "\n",
       "    .dataframe thead th {\n",
       "        text-align: right;\n",
       "    }\n",
       "</style>\n",
       "<table border=\"1\" class=\"dataframe\">\n",
       "  <thead>\n",
       "    <tr style=\"text-align: right;\">\n",
       "      <th></th>\n",
       "      <th>Fire Department \\nIdentification Number \\n(FDID)</th>\n",
       "      <th>Fire Department Name</th>\n",
       "      <th>Incident \\nNumber</th>\n",
       "      <th>Exposure\\nNumber</th>\n",
       "      <th>NFIRS IncidentType\\nCode and Description</th>\n",
       "      <th>Incident Name</th>\n",
       "      <th>Year</th>\n",
       "      <th>Start \\nDate</th>\n",
       "      <th>Containment \\nDate</th>\n",
       "      <th>County</th>\n",
       "      <th>...</th>\n",
       "      <th>State</th>\n",
       "      <th>Zip</th>\n",
       "      <th>Cross Streets/Directions/National Grid</th>\n",
       "      <th>Latitude</th>\n",
       "      <th>Longitude</th>\n",
       "      <th>Total \\nInjuries</th>\n",
       "      <th>Total \\nFatalities</th>\n",
       "      <th>Estimated \\nProperty/Contents\\nLoss</th>\n",
       "      <th>Total Acres \\nBurned</th>\n",
       "      <th>Cause</th>\n",
       "    </tr>\n",
       "  </thead>\n",
       "  <tbody>\n",
       "    <tr>\n",
       "      <th>0</th>\n",
       "      <td>33090</td>\n",
       "      <td>RIVERSIDE CFD</td>\n",
       "      <td>16</td>\n",
       "      <td>0</td>\n",
       "      <td>561 Unauthorized burning</td>\n",
       "      <td>CASTLEROCK TRL  MEAD</td>\n",
       "      <td>2013</td>\n",
       "      <td>2013-01-01</td>\n",
       "      <td>2013-01-01 00:27:00</td>\n",
       "      <td>Riverside</td>\n",
       "      <td>...</td>\n",
       "      <td>CA</td>\n",
       "      <td>92570</td>\n",
       "      <td>21540 BLK DAWES ST, 21500 BLK</td>\n",
       "      <td>33.840233</td>\n",
       "      <td>-117.286983</td>\n",
       "      <td>0</td>\n",
       "      <td>0</td>\n",
       "      <td>0</td>\n",
       "      <td>1.0</td>\n",
       "      <td>CAMPFIRE</td>\n",
       "    </tr>\n",
       "    <tr>\n",
       "      <th>1</th>\n",
       "      <td>33090</td>\n",
       "      <td>RIVERSIDE CFD</td>\n",
       "      <td>312</td>\n",
       "      <td>0</td>\n",
       "      <td>142 Brush, or brush and grass mixture fire</td>\n",
       "      <td>DATE PALM</td>\n",
       "      <td>2013</td>\n",
       "      <td>2013-01-01</td>\n",
       "      <td>2013-01-01 19:03:00</td>\n",
       "      <td>Riverside</td>\n",
       "      <td>...</td>\n",
       "      <td>CA</td>\n",
       "      <td>92254</td>\n",
       "      <td>Half mile north of the Mecca C</td>\n",
       "      <td>33.964933</td>\n",
       "      <td>-116.127000</td>\n",
       "      <td>0</td>\n",
       "      <td>0</td>\n",
       "      <td>0</td>\n",
       "      <td>1.0</td>\n",
       "      <td>MISCELLANEOUS</td>\n",
       "    </tr>\n",
       "    <tr>\n",
       "      <th>2</th>\n",
       "      <td>30065</td>\n",
       "      <td>ORANGE COUNTY FIRE AUTHORITY</td>\n",
       "      <td>0000005</td>\n",
       "      <td>0</td>\n",
       "      <td>173 Cultivated trees or nursery stock fire</td>\n",
       "      <td>NaN</td>\n",
       "      <td>2013</td>\n",
       "      <td>2013-01-01</td>\n",
       "      <td>NaN</td>\n",
       "      <td>Orange</td>\n",
       "      <td>...</td>\n",
       "      <td>CA</td>\n",
       "      <td>000000000</td>\n",
       "      <td>NEAR BUENA VISTA ST</td>\n",
       "      <td>0.000000</td>\n",
       "      <td>0.000000</td>\n",
       "      <td>0</td>\n",
       "      <td>0</td>\n",
       "      <td>0</td>\n",
       "      <td>0.2</td>\n",
       "      <td>ARSON</td>\n",
       "    </tr>\n",
       "    <tr>\n",
       "      <th>3</th>\n",
       "      <td>19105</td>\n",
       "      <td>LOS ANGELES CITY FD</td>\n",
       "      <td>52</td>\n",
       "      <td>0</td>\n",
       "      <td>173 Cultivated trees or nursery stock fire</td>\n",
       "      <td>NaN</td>\n",
       "      <td>2013</td>\n",
       "      <td>2013-01-01</td>\n",
       "      <td>NaN</td>\n",
       "      <td>Los Angeles</td>\n",
       "      <td>...</td>\n",
       "      <td>CA</td>\n",
       "      <td>91342</td>\n",
       "      <td>PADDOCK                     ST</td>\n",
       "      <td>0.000000</td>\n",
       "      <td>0.000000</td>\n",
       "      <td>0</td>\n",
       "      <td>0</td>\n",
       "      <td>500</td>\n",
       "      <td>0.0</td>\n",
       "      <td>ARSON</td>\n",
       "    </tr>\n",
       "    <tr>\n",
       "      <th>4</th>\n",
       "      <td>19105</td>\n",
       "      <td>LOS ANGELES CITY FD</td>\n",
       "      <td>1384</td>\n",
       "      <td>0</td>\n",
       "      <td>173 Cultivated trees or nursery stock fire</td>\n",
       "      <td>NaN</td>\n",
       "      <td>2013</td>\n",
       "      <td>2013-01-01</td>\n",
       "      <td>NaN</td>\n",
       "      <td>Los Angeles</td>\n",
       "      <td>...</td>\n",
       "      <td>CA</td>\n",
       "      <td>90003</td>\n",
       "      <td>260 E 71ST ST X S SAN PEDRO ST</td>\n",
       "      <td>0.000000</td>\n",
       "      <td>0.000000</td>\n",
       "      <td>0</td>\n",
       "      <td>0</td>\n",
       "      <td>0</td>\n",
       "      <td>0.0</td>\n",
       "      <td>ARSON</td>\n",
       "    </tr>\n",
       "  </tbody>\n",
       "</table>\n",
       "<p>5 rows × 22 columns</p>\n",
       "</div>"
      ],
      "text/plain": [
       "   Fire Department \\nIdentification Number \\n(FDID)  \\\n",
       "0                                             33090   \n",
       "1                                             33090   \n",
       "2                                             30065   \n",
       "3                                             19105   \n",
       "4                                             19105   \n",
       "\n",
       "           Fire Department Name Incident \\nNumber  Exposure\\nNumber  \\\n",
       "0                 RIVERSIDE CFD                16                 0   \n",
       "1                 RIVERSIDE CFD               312                 0   \n",
       "2  ORANGE COUNTY FIRE AUTHORITY           0000005                 0   \n",
       "3           LOS ANGELES CITY FD                52                 0   \n",
       "4           LOS ANGELES CITY FD              1384                 0   \n",
       "\n",
       "     NFIRS IncidentType\\nCode and Description         Incident Name  Year  \\\n",
       "0                    561 Unauthorized burning  CASTLEROCK TRL  MEAD  2013   \n",
       "1  142 Brush, or brush and grass mixture fire             DATE PALM  2013   \n",
       "2  173 Cultivated trees or nursery stock fire                   NaN  2013   \n",
       "3  173 Cultivated trees or nursery stock fire                   NaN  2013   \n",
       "4  173 Cultivated trees or nursery stock fire                   NaN  2013   \n",
       "\n",
       "  Start \\nDate   Containment \\nDate       County  ... State        Zip  \\\n",
       "0   2013-01-01  2013-01-01 00:27:00    Riverside  ...    CA      92570   \n",
       "1   2013-01-01  2013-01-01 19:03:00    Riverside  ...    CA      92254   \n",
       "2   2013-01-01                  NaN       Orange  ...    CA  000000000   \n",
       "3   2013-01-01                  NaN  Los Angeles  ...    CA      91342   \n",
       "4   2013-01-01                  NaN  Los Angeles  ...    CA      90003   \n",
       "\n",
       "  Cross Streets/Directions/National Grid   Latitude   Longitude  \\\n",
       "0          21540 BLK DAWES ST, 21500 BLK  33.840233 -117.286983   \n",
       "1         Half mile north of the Mecca C  33.964933 -116.127000   \n",
       "2                    NEAR BUENA VISTA ST   0.000000    0.000000   \n",
       "3         PADDOCK                     ST   0.000000    0.000000   \n",
       "4         260 E 71ST ST X S SAN PEDRO ST   0.000000    0.000000   \n",
       "\n",
       "   Total \\nInjuries  Total \\nFatalities  Estimated \\nProperty/Contents\\nLoss  \\\n",
       "0                 0                   0                                    0   \n",
       "1                 0                   0                                    0   \n",
       "2                 0                   0                                    0   \n",
       "3                 0                   0                                  500   \n",
       "4                 0                   0                                    0   \n",
       "\n",
       "   Total Acres \\nBurned          Cause  \n",
       "0                   1.0       CAMPFIRE  \n",
       "1                   1.0  MISCELLANEOUS  \n",
       "2                   0.2          ARSON  \n",
       "3                   0.0          ARSON  \n",
       "4                   0.0          ARSON  \n",
       "\n",
       "[5 rows x 22 columns]"
      ]
     },
     "execution_count": 48,
     "metadata": {},
     "output_type": "execute_result"
    }
   ],
   "source": [
    "df.head()"
   ]
  },
  {
   "cell_type": "code",
   "execution_count": 49,
   "metadata": {},
   "outputs": [
    {
     "data": {
      "text/plain": [
       "Index(['Fire Department \\nIdentification Number \\n(FDID)',\n",
       "       'Fire Department Name', 'Incident \\nNumber', 'Exposure\\nNumber',\n",
       "       'NFIRS IncidentType\\nCode and Description', 'Incident Name', 'Year',\n",
       "       'Start \\nDate', 'Containment \\nDate', 'County', 'Street Address',\n",
       "       'City', 'State', 'Zip', 'Cross Streets/Directions/National Grid',\n",
       "       'Latitude', 'Longitude', 'Total \\nInjuries', 'Total \\nFatalities',\n",
       "       'Estimated \\nProperty/Contents\\nLoss', 'Total Acres \\nBurned', 'Cause'],\n",
       "      dtype='object')"
      ]
     },
     "execution_count": 49,
     "metadata": {},
     "output_type": "execute_result"
    }
   ],
   "source": [
    "df.columns"
   ]
  },
  {
   "cell_type": "markdown",
   "metadata": {},
   "source": [
    "## Data Cleaning"
   ]
  },
  {
   "cell_type": "markdown",
   "metadata": {},
   "source": [
    "These column heads came in very Excel-friendly, the following cell makes them more Python/Pandas compatible. "
   ]
  },
  {
   "cell_type": "code",
   "execution_count": 50,
   "metadata": {},
   "outputs": [
    {
     "data": {
      "text/plain": [
       "Index(['fire_department_identification_number_fdid', 'fire_department_name',\n",
       "       'incident_number', 'exposure_number',\n",
       "       'nfirs_incidenttype_code_and_description', 'incident_name', 'year',\n",
       "       'start_date', 'containment_date', 'county', 'street_address', 'city',\n",
       "       'state', 'zip', 'cross_streets_or_directions_or_national_grid',\n",
       "       'latitude', 'longitude', 'total_injuries', 'total_fatalities',\n",
       "       'estimated_property_or_contents_loss', 'total_acres_burned', 'cause'],\n",
       "      dtype='object')"
      ]
     },
     "execution_count": 50,
     "metadata": {},
     "output_type": "execute_result"
    }
   ],
   "source": [
    "df.columns = df.columns.str.strip().str.strip(r'\\\\').str.lower().str.replace(' ', '_').str.replace('(', '').str.replace(')', '').str.replace('\\\\n','_',)\n",
    "df.columns = df.columns.str.replace('__','_',).str.replace('/', '_or_')\n",
    "df.columns"
   ]
  },
  {
   "cell_type": "markdown",
   "metadata": {},
   "source": [
    "The next thing to deal with is all of the time-series data. Many of thes small fires that lasted less than a day had missing information or NaNs. I've replaced them with containment dates and converted all time settings to be "
   ]
  },
  {
   "cell_type": "code",
   "execution_count": 51,
   "metadata": {},
   "outputs": [],
   "source": [
    "df['containment_date'] = pd.to_datetime(df['containment_date'], errors='coerce').fillna(df['start_date'])"
   ]
  },
  {
   "cell_type": "code",
   "execution_count": 52,
   "metadata": {},
   "outputs": [],
   "source": [
    "df['containment_date'].fillna(df['start_date'], inplace=True)"
   ]
  },
  {
   "cell_type": "code",
   "execution_count": 53,
   "metadata": {},
   "outputs": [],
   "source": [
    "df.sort_values('start_date', inplace=True)"
   ]
  },
  {
   "cell_type": "markdown",
   "metadata": {},
   "source": [
    "Most fires are unnamed, rather than have NaNs, I'm simply titling them \"unnamed\"."
   ]
  },
  {
   "cell_type": "code",
   "execution_count": 54,
   "metadata": {},
   "outputs": [],
   "source": [
    "df['incident_name'].fillna('not_named', inplace=True)"
   ]
  },
  {
   "cell_type": "markdown",
   "metadata": {},
   "source": [
    "This is a record of California Fires. Unless otherwise specified, these are California Fires. NaN and '00' values have been replaced as such. I will likely drop this column. "
   ]
  },
  {
   "cell_type": "code",
   "execution_count": 55,
   "metadata": {},
   "outputs": [],
   "source": [
    "df['state'].fillna('CA', inplace=True)\n",
    "df['state'].replace('OO', 'CA', inplace=True)"
   ]
  },
  {
   "cell_type": "markdown",
   "metadata": {},
   "source": [
    "Similary, if I am missing info from these string fields, I'm filling in \"none_specified\""
   ]
  },
  {
   "cell_type": "code",
   "execution_count": 56,
   "metadata": {},
   "outputs": [],
   "source": [
    "df['cross_streets_or_directions_or_national_grid'].fillna('none_specified', inplace=True)\n",
    "df['city'].fillna('none_specified', inplace=True)\n",
    "df['zip'].fillna('none_specified', inplace = True)"
   ]
  },
  {
   "cell_type": "markdown",
   "metadata": {},
   "source": [
    "Some research has revealed that the largest fire in California history was the Ranch fire at 410,203 acres. I'm going to get rid of the three fires that claim to be larger than that as they have a lot of missing data surrounding them and seem to be spurious. Similarly, there shouldn't be any fires that burn negative acres. "
   ]
  },
  {
   "cell_type": "code",
   "execution_count": 57,
   "metadata": {},
   "outputs": [],
   "source": [
    "df = df.loc[df['total_acres_burned']<=410_203] \n",
    "df = df.loc[df['total_acres_burned']>=0]"
   ]
  },
  {
   "cell_type": "markdown",
   "metadata": {},
   "source": [
    "fire department identification numbers are essentially the same as names, so I'm going to just drop the numbers so that the names are more explicit. "
   ]
  },
  {
   "cell_type": "code",
   "execution_count": 58,
   "metadata": {},
   "outputs": [],
   "source": [
    "type_code_values = df['nfirs_incidenttype_code_and_description'].str.findall(r'[0-9]')\n",
    "type_descriptions = df['nfirs_incidenttype_code_and_description']"
   ]
  },
  {
   "cell_type": "code",
   "execution_count": 59,
   "metadata": {},
   "outputs": [],
   "source": [
    "df['type_code'] = [''.join(i) for i in type_code_values]\n",
    "df['type_descriptions'] = [re.sub(\"[0-9]\", \" \", i) for i in type_descriptions]"
   ]
  },
  {
   "cell_type": "code",
   "execution_count": 60,
   "metadata": {},
   "outputs": [],
   "source": [
    "df.drop(columns='fire_department_identification_number_fdid', axis=1, inplace=True)\n",
    "df.drop(columns='nfirs_incidenttype_code_and_description', axis = 1, inplace=True)"
   ]
  },
  {
   "cell_type": "markdown",
   "metadata": {},
   "source": [
    "The most expensive fire to date in California's history was the fire that destroyed Paradise, CA which topped $12bn in damages.These numbers are clearly at the capacity of whatever data entry system was used to create them.  As these numbers run from the billions to single digits, it's possible this metric was used to describe idividual properties destroyed as well as dollar values. This is likely not going to make it into my final data set. "
   ]
  },
  {
   "cell_type": "code",
   "execution_count": 61,
   "metadata": {},
   "outputs": [
    {
     "data": {
      "text/html": [
       "<div>\n",
       "<style scoped>\n",
       "    .dataframe tbody tr th:only-of-type {\n",
       "        vertical-align: middle;\n",
       "    }\n",
       "\n",
       "    .dataframe tbody tr th {\n",
       "        vertical-align: top;\n",
       "    }\n",
       "\n",
       "    .dataframe thead th {\n",
       "        text-align: right;\n",
       "    }\n",
       "</style>\n",
       "<table border=\"1\" class=\"dataframe\">\n",
       "  <thead>\n",
       "    <tr style=\"text-align: right;\">\n",
       "      <th></th>\n",
       "      <th>fire_department_name</th>\n",
       "      <th>incident_number</th>\n",
       "      <th>exposure_number</th>\n",
       "      <th>incident_name</th>\n",
       "      <th>year</th>\n",
       "      <th>start_date</th>\n",
       "      <th>containment_date</th>\n",
       "      <th>county</th>\n",
       "      <th>street_address</th>\n",
       "      <th>city</th>\n",
       "      <th>...</th>\n",
       "      <th>cross_streets_or_directions_or_national_grid</th>\n",
       "      <th>latitude</th>\n",
       "      <th>longitude</th>\n",
       "      <th>total_injuries</th>\n",
       "      <th>total_fatalities</th>\n",
       "      <th>estimated_property_or_contents_loss</th>\n",
       "      <th>total_acres_burned</th>\n",
       "      <th>cause</th>\n",
       "      <th>type_code</th>\n",
       "      <th>type_descriptions</th>\n",
       "    </tr>\n",
       "  </thead>\n",
       "  <tbody>\n",
       "  </tbody>\n",
       "</table>\n",
       "<p>0 rows × 22 columns</p>\n",
       "</div>"
      ],
      "text/plain": [
       "Empty DataFrame\n",
       "Columns: [fire_department_name, incident_number, exposure_number, incident_name, year, start_date, containment_date, county, street_address, city, state, zip, cross_streets_or_directions_or_national_grid, latitude, longitude, total_injuries, total_fatalities, estimated_property_or_contents_loss, total_acres_burned, cause, type_code, type_descriptions]\n",
       "Index: []\n",
       "\n",
       "[0 rows x 22 columns]"
      ]
     },
     "execution_count": 61,
     "metadata": {},
     "output_type": "execute_result"
    }
   ],
   "source": [
    "df.loc[df['estimated_property_or_contents_loss']>12_000_000_000]"
   ]
  },
  {
   "cell_type": "code",
   "execution_count": null,
   "metadata": {},
   "outputs": [],
   "source": []
  },
  {
   "cell_type": "code",
   "execution_count": null,
   "metadata": {},
   "outputs": [],
   "source": []
  },
  {
   "cell_type": "code",
   "execution_count": null,
   "metadata": {},
   "outputs": [],
   "source": []
  },
  {
   "cell_type": "markdown",
   "metadata": {},
   "source": [
    "## Engineering"
   ]
  },
  {
   "cell_type": "markdown",
   "metadata": {},
   "source": [
    "Creating a new cell for 'burn duration'. About 1/3 of the data set will be 0, but this may be helpful in future. "
   ]
  },
  {
   "cell_type": "code",
   "execution_count": 79,
   "metadata": {},
   "outputs": [],
   "source": [
    "df['burn_duration'] = [i.seconds/60 for i in (df['containment_date'] - df['start_date'])]"
   ]
  },
  {
   "cell_type": "code",
   "execution_count": 82,
   "metadata": {},
   "outputs": [
    {
     "data": {
      "text/plain": [
       "1143.0"
      ]
     },
     "execution_count": 82,
     "metadata": {},
     "output_type": "execute_result"
    }
   ],
   "source": [
    "df['burn_duration'][1]"
   ]
  },
  {
   "cell_type": "code",
   "execution_count": 84,
   "metadata": {},
   "outputs": [
    {
     "data": {
      "text/plain": [
       "dtype('float64')"
      ]
     },
     "execution_count": 84,
     "metadata": {},
     "output_type": "execute_result"
    }
   ],
   "source": [
    "df.burn_duration.dtype"
   ]
  },
  {
   "cell_type": "code",
   "execution_count": 85,
   "metadata": {},
   "outputs": [
    {
     "data": {
      "text/plain": [
       "(134671,)"
      ]
     },
     "execution_count": 85,
     "metadata": {},
     "output_type": "execute_result"
    }
   ],
   "source": [
    "df['fire_department_name'].shape"
   ]
  },
  {
   "cell_type": "code",
   "execution_count": 86,
   "metadata": {},
   "outputs": [],
   "source": [
    "name_dummies = pd.get_dummies(df['fire_department_name'], drop_first=True)\n",
    "type_dummies = pd.get_dummies(df['type_descriptions'], drop_first=True)\n",
    "county_dummies = pd.get_dummies(df['county'], drop_first= True)"
   ]
  },
  {
   "cell_type": "code",
   "execution_count": 87,
   "metadata": {},
   "outputs": [
    {
     "data": {
      "text/plain": [
       "(134671, 1405)"
      ]
     },
     "execution_count": 87,
     "metadata": {},
     "output_type": "execute_result"
    }
   ],
   "source": [
    "df = df.merge(name_dummies, left_index=True, right_index=True)\n",
    "df = df.merge(type_dummies, left_index=True, right_index=True)\n",
    "df = df.merge(county_dummies, left_index=True, right_index=True)\n",
    "df.shape"
   ]
  },
  {
   "cell_type": "markdown",
   "metadata": {},
   "source": [
    "Because so many values are 0, I'm creating a dataframe that is specifically for burn duration amounts over 1 second."
   ]
  },
  {
   "cell_type": "code",
   "execution_count": 104,
   "metadata": {},
   "outputs": [],
   "source": [
    "df_duration = df.loc[df['burn_duration']> .000 ]"
   ]
  },
  {
   "cell_type": "markdown",
   "metadata": {},
   "source": [
    "Creating a seperate dataframe for coordinates that are available.  "
   ]
  },
  {
   "cell_type": "code",
   "execution_count": 105,
   "metadata": {},
   "outputs": [],
   "source": [
    "coords_df = df.loc[df['latitude']!=0]"
   ]
  },
  {
   "cell_type": "code",
   "execution_count": 106,
   "metadata": {},
   "outputs": [
    {
     "data": {
      "text/plain": [
       "(34453, 1405)"
      ]
     },
     "execution_count": 106,
     "metadata": {},
     "output_type": "execute_result"
    }
   ],
   "source": [
    "coords_df.shape"
   ]
  },
  {
   "cell_type": "code",
   "execution_count": 107,
   "metadata": {},
   "outputs": [],
   "source": [
    "coords_df.to_csv('./coords_df', mode='w', index=False)"
   ]
  },
  {
   "cell_type": "markdown",
   "metadata": {},
   "source": [
    "And another for acres"
   ]
  },
  {
   "cell_type": "code",
   "execution_count": 108,
   "metadata": {},
   "outputs": [],
   "source": [
    "df_acres = df.loc[df['total_acres_burned']>0]\n",
    "df_acres.to_csv('./df_acres', mode='w', index=False)"
   ]
  },
  {
   "cell_type": "code",
   "execution_count": 109,
   "metadata": {},
   "outputs": [
    {
     "data": {
      "text/plain": [
       "count    45605.000000\n",
       "mean       863.872636\n",
       "std        335.908690\n",
       "min          0.016667\n",
       "25%        693.000000\n",
       "50%        912.000000\n",
       "75%       1101.000000\n",
       "max       1439.933333\n",
       "Name: burn_duration, dtype: float64"
      ]
     },
     "execution_count": 109,
     "metadata": {},
     "output_type": "execute_result"
    }
   ],
   "source": [
    "df_duration.burn_duration.describe()"
   ]
  },
  {
   "cell_type": "code",
   "execution_count": null,
   "metadata": {},
   "outputs": [],
   "source": []
  },
  {
   "cell_type": "code",
   "execution_count": 110,
   "metadata": {},
   "outputs": [
    {
     "data": {
      "text/plain": [
       "0.00        0.333910\n",
       "0.01        0.184509\n",
       "0.10        0.124058\n",
       "1.00        0.078436\n",
       "0.25        0.043952\n",
       "              ...   \n",
       "3889.00     0.000007\n",
       "4.55        0.000007\n",
       "62.50       0.000007\n",
       "265.00      0.000007\n",
       "31359.00    0.000007\n",
       "Name: total_acres_burned, Length: 1470, dtype: float64"
      ]
     },
     "execution_count": 110,
     "metadata": {},
     "output_type": "execute_result"
    }
   ],
   "source": [
    "df['total_acres_burned'].value_counts(normalize = True)"
   ]
  },
  {
   "cell_type": "code",
   "execution_count": 111,
   "metadata": {},
   "outputs": [
    {
     "data": {
      "image/png": "[encoded data removed]",
      "text/plain": [
       "<Figure size 432x288 with 1 Axes>"
      ]
     },
     "metadata": {
      "image/png": {
       "height": 248,
       "width": 388
      },
      "needs_background": "light"
     },
     "output_type": "display_data"
    }
   ],
   "source": [
    "df[(df['total_acres_burned']<.5) &(df['total_acres_burned']>0)]['total_acres_burned'].hist();"
   ]
  },
  {
   "cell_type": "code",
   "execution_count": 112,
   "metadata": {},
   "outputs": [
    {
     "data": {
      "text/plain": [
       "0     133631\n",
       "1        610\n",
       "2        128\n",
       "3         62\n",
       "4         41\n",
       "       ...  \n",
       "56         1\n",
       "57         1\n",
       "58         1\n",
       "59         1\n",
       "41         1\n",
       "Name: exposure_number, Length: 83, dtype: int64"
      ]
     },
     "execution_count": 112,
     "metadata": {},
     "output_type": "execute_result"
    }
   ],
   "source": [
    "df['exposure_number'].value_counts()"
   ]
  },
  {
   "cell_type": "code",
   "execution_count": 113,
   "metadata": {},
   "outputs": [],
   "source": [
    "# plt.figure(figsize=(15, 10))\n",
    "# sns.heatmap(df.corr(), annot=True);"
   ]
  },
  {
   "cell_type": "code",
   "execution_count": 114,
   "metadata": {},
   "outputs": [
    {
     "data": {
      "text/plain": [
       "(34453, 1405)"
      ]
     },
     "execution_count": 114,
     "metadata": {},
     "output_type": "execute_result"
    }
   ],
   "source": [
    "coords_df.shape"
   ]
  },
  {
   "cell_type": "code",
   "execution_count": 115,
   "metadata": {},
   "outputs": [
    {
     "data": {
      "text/plain": [
       "(45605, 1405)"
      ]
     },
     "execution_count": 115,
     "metadata": {},
     "output_type": "execute_result"
    }
   ],
   "source": [
    "df_duration.shape"
   ]
  },
  {
   "cell_type": "code",
   "execution_count": 116,
   "metadata": {},
   "outputs": [
    {
     "data": {
      "text/html": [
       "<div>\n",
       "<style scoped>\n",
       "    .dataframe tbody tr th:only-of-type {\n",
       "        vertical-align: middle;\n",
       "    }\n",
       "\n",
       "    .dataframe tbody tr th {\n",
       "        vertical-align: top;\n",
       "    }\n",
       "\n",
       "    .dataframe thead th {\n",
       "        text-align: right;\n",
       "    }\n",
       "</style>\n",
       "<table border=\"1\" class=\"dataframe\">\n",
       "  <thead>\n",
       "    <tr style=\"text-align: right;\">\n",
       "      <th></th>\n",
       "      <th>fire_department_name</th>\n",
       "      <th>incident_number</th>\n",
       "      <th>exposure_number</th>\n",
       "      <th>incident_name</th>\n",
       "      <th>year</th>\n",
       "      <th>start_date</th>\n",
       "      <th>containment_date</th>\n",
       "      <th>county</th>\n",
       "      <th>street_address</th>\n",
       "      <th>city</th>\n",
       "      <th>...</th>\n",
       "      <th>Sonoma_y</th>\n",
       "      <th>Stanislaus_y</th>\n",
       "      <th>Sutter_y</th>\n",
       "      <th>Tehama_y</th>\n",
       "      <th>Trinity_y</th>\n",
       "      <th>Tulare_y</th>\n",
       "      <th>Tuolumne_y</th>\n",
       "      <th>Ventura_y</th>\n",
       "      <th>Yolo_y</th>\n",
       "      <th>Yuba_y</th>\n",
       "    </tr>\n",
       "  </thead>\n",
       "  <tbody>\n",
       "    <tr>\n",
       "      <th>0</th>\n",
       "      <td>RIVERSIDE CFD</td>\n",
       "      <td>16</td>\n",
       "      <td>0</td>\n",
       "      <td>CASTLEROCK TRL  MEAD</td>\n",
       "      <td>2013</td>\n",
       "      <td>2013-01-01</td>\n",
       "      <td>2013-01-01 00:27:00</td>\n",
       "      <td>Riverside</td>\n",
       "      <td>00019275  CASTLEROCK TRL</td>\n",
       "      <td>MEAD</td>\n",
       "      <td>...</td>\n",
       "      <td>0</td>\n",
       "      <td>0</td>\n",
       "      <td>0</td>\n",
       "      <td>0</td>\n",
       "      <td>0</td>\n",
       "      <td>0</td>\n",
       "      <td>0</td>\n",
       "      <td>0</td>\n",
       "      <td>0</td>\n",
       "      <td>0</td>\n",
       "    </tr>\n",
       "  </tbody>\n",
       "</table>\n",
       "<p>1 rows × 1405 columns</p>\n",
       "</div>"
      ],
      "text/plain": [
       "  fire_department_name incident_number  exposure_number         incident_name  \\\n",
       "0        RIVERSIDE CFD              16                0  CASTLEROCK TRL  MEAD   \n",
       "\n",
       "   year start_date    containment_date     county             street_address  \\\n",
       "0  2013 2013-01-01 2013-01-01 00:27:00  Riverside  00019275  CASTLEROCK TRL    \n",
       "\n",
       "   city  ... Sonoma_y Stanislaus_y Sutter_y  Tehama_y  Trinity_y  Tulare_y  \\\n",
       "0  MEAD  ...        0            0        0         0          0         0   \n",
       "\n",
       "   Tuolumne_y  Ventura_y  Yolo_y Yuba_y  \n",
       "0           0          0       0      0  \n",
       "\n",
       "[1 rows x 1405 columns]"
      ]
     },
     "execution_count": 116,
     "metadata": {},
     "output_type": "execute_result"
    }
   ],
   "source": [
    "df_duration.head(1)"
   ]
  },
  {
   "cell_type": "code",
   "execution_count": null,
   "metadata": {},
   "outputs": [],
   "source": []
  },
  {
   "cell_type": "code",
   "execution_count": null,
   "metadata": {},
   "outputs": [],
   "source": []
  },
  {
   "cell_type": "code",
   "execution_count": 103,
   "metadata": {},
   "outputs": [
    {
     "data": {
      "text/plain": [
       "(89703, 1405)"
      ]
     },
     "execution_count": 103,
     "metadata": {},
     "output_type": "execute_result"
    }
   ],
   "source": [
    "df.loc[df['total_acres_burned']>0].shape#['total_acres_burned'].hist();"
   ]
  },
  {
   "cell_type": "code",
   "execution_count": null,
   "metadata": {},
   "outputs": [],
   "source": [
    "coords_df.loc[coords_df['total_acres_burned']>0].shape"
   ]
  },
  {
   "cell_type": "code",
   "execution_count": null,
   "metadata": {},
   "outputs": [],
   "source": [
    "plt.plot(df.loc[df['total_acres_burned']>0]['total_acres_burned'], type=)"
   ]
  },
  {
   "cell_type": "code",
   "execution_count": null,
   "metadata": {},
   "outputs": [],
   "source": [
    "sns.distplot(df.loc[df['total_acres_burned']>100000]['total_acres_burned']);"
   ]
  },
  {
   "cell_type": "code",
   "execution_count": null,
   "metadata": {},
   "outputs": [],
   "source": [
    "df.loc[df['total_acres_burned']>1000]['total_acres_burned'].value_counts()"
   ]
  },
  {
   "cell_type": "markdown",
   "metadata": {},
   "source": []
  },
  {
   "cell_type": "code",
   "execution_count": null,
   "metadata": {},
   "outputs": [],
   "source": []
  },
  {
   "cell_type": "code",
   "execution_count": 153,
   "metadata": {},
   "outputs": [
    {
     "data": {
      "text/html": [
       "<div>\n",
       "<style scoped>\n",
       "    .dataframe tbody tr th:only-of-type {\n",
       "        vertical-align: middle;\n",
       "    }\n",
       "\n",
       "    .dataframe tbody tr th {\n",
       "        vertical-align: top;\n",
       "    }\n",
       "\n",
       "    .dataframe thead th {\n",
       "        text-align: right;\n",
       "    }\n",
       "</style>\n",
       "<table border=\"1\" class=\"dataframe\">\n",
       "  <thead>\n",
       "    <tr style=\"text-align: right;\">\n",
       "      <th></th>\n",
       "      <th>fire_department_identification_number_fdid</th>\n",
       "      <th>fire_department_name</th>\n",
       "      <th>incident_number</th>\n",
       "      <th>exposure_number</th>\n",
       "      <th>nfirs_incidenttype_code_and_description</th>\n",
       "      <th>incident_name</th>\n",
       "      <th>year</th>\n",
       "      <th>start_date</th>\n",
       "      <th>containment_date</th>\n",
       "      <th>county</th>\n",
       "      <th>...</th>\n",
       "      <th>zip</th>\n",
       "      <th>cross_streets/directions/national_grid</th>\n",
       "      <th>latitude</th>\n",
       "      <th>longitude</th>\n",
       "      <th>total_injuries</th>\n",
       "      <th>total_fatalities</th>\n",
       "      <th>estimated_property/contents_loss</th>\n",
       "      <th>total_acres_burned</th>\n",
       "      <th>cause</th>\n",
       "      <th>burn_duration</th>\n",
       "    </tr>\n",
       "  </thead>\n",
       "  <tbody>\n",
       "    <tr>\n",
       "      <th>0</th>\n",
       "      <td>33090</td>\n",
       "      <td>RIVERSIDE CFD</td>\n",
       "      <td>16</td>\n",
       "      <td>0</td>\n",
       "      <td>561 Unauthorized burning</td>\n",
       "      <td>CASTLEROCK TRL  MEAD</td>\n",
       "      <td>2013</td>\n",
       "      <td>2013-01-01</td>\n",
       "      <td>2013-01-01 00:27:00</td>\n",
       "      <td>Riverside</td>\n",
       "      <td>...</td>\n",
       "      <td>92570</td>\n",
       "      <td>21540 BLK DAWES ST, 21500 BLK</td>\n",
       "      <td>33.840233</td>\n",
       "      <td>-117.286983</td>\n",
       "      <td>0</td>\n",
       "      <td>0</td>\n",
       "      <td>0</td>\n",
       "      <td>1.0</td>\n",
       "      <td>CAMPFIRE</td>\n",
       "      <td>00:27:00</td>\n",
       "    </tr>\n",
       "    <tr>\n",
       "      <th>6</th>\n",
       "      <td>42015</td>\n",
       "      <td>LOMPOC FD</td>\n",
       "      <td>0000002</td>\n",
       "      <td>0</td>\n",
       "      <td>142 Brush, or brush and grass mixture fire</td>\n",
       "      <td>not_named</td>\n",
       "      <td>2013</td>\n",
       "      <td>2013-01-01</td>\n",
       "      <td>2013-01-01 00:00:00</td>\n",
       "      <td>Santa Barbara</td>\n",
       "      <td>...</td>\n",
       "      <td>93436</td>\n",
       "      <td>NaN</td>\n",
       "      <td>0.000000</td>\n",
       "      <td>0.000000</td>\n",
       "      <td>0</td>\n",
       "      <td>0</td>\n",
       "      <td>0</td>\n",
       "      <td>0.0</td>\n",
       "      <td>MISCELLANEOUS</td>\n",
       "      <td>00:00:00</td>\n",
       "    </tr>\n",
       "    <tr>\n",
       "      <th>9</th>\n",
       "      <td>42015</td>\n",
       "      <td>LOMPOC FD</td>\n",
       "      <td>0000006</td>\n",
       "      <td>0</td>\n",
       "      <td>142 Brush, or brush and grass mixture fire</td>\n",
       "      <td>not_named</td>\n",
       "      <td>2013</td>\n",
       "      <td>2013-01-01</td>\n",
       "      <td>2013-01-01 00:00:00</td>\n",
       "      <td>Santa Barbara</td>\n",
       "      <td>...</td>\n",
       "      <td>93436</td>\n",
       "      <td>NaN</td>\n",
       "      <td>0.000000</td>\n",
       "      <td>0.000000</td>\n",
       "      <td>0</td>\n",
       "      <td>0</td>\n",
       "      <td>0</td>\n",
       "      <td>0.0</td>\n",
       "      <td>MISCELLANEOUS</td>\n",
       "      <td>00:00:00</td>\n",
       "    </tr>\n",
       "    <tr>\n",
       "      <th>8</th>\n",
       "      <td>42015</td>\n",
       "      <td>LOMPOC FD</td>\n",
       "      <td>0000004</td>\n",
       "      <td>0</td>\n",
       "      <td>142 Brush, or brush and grass mixture fire</td>\n",
       "      <td>not_named</td>\n",
       "      <td>2013</td>\n",
       "      <td>2013-01-01</td>\n",
       "      <td>2013-01-01 00:00:00</td>\n",
       "      <td>Santa Barbara</td>\n",
       "      <td>...</td>\n",
       "      <td>93436</td>\n",
       "      <td>NaN</td>\n",
       "      <td>0.000000</td>\n",
       "      <td>0.000000</td>\n",
       "      <td>0</td>\n",
       "      <td>0</td>\n",
       "      <td>0</td>\n",
       "      <td>0.0</td>\n",
       "      <td>MISCELLANEOUS</td>\n",
       "      <td>00:00:00</td>\n",
       "    </tr>\n",
       "    <tr>\n",
       "      <th>7</th>\n",
       "      <td>42015</td>\n",
       "      <td>LOMPOC FD</td>\n",
       "      <td>0000003</td>\n",
       "      <td>0</td>\n",
       "      <td>142 Brush, or brush and grass mixture fire</td>\n",
       "      <td>not_named</td>\n",
       "      <td>2013</td>\n",
       "      <td>2013-01-01</td>\n",
       "      <td>2013-01-01 00:00:00</td>\n",
       "      <td>Santa Barbara</td>\n",
       "      <td>...</td>\n",
       "      <td>93436</td>\n",
       "      <td>NaN</td>\n",
       "      <td>0.000000</td>\n",
       "      <td>0.000000</td>\n",
       "      <td>0</td>\n",
       "      <td>0</td>\n",
       "      <td>0</td>\n",
       "      <td>0.0</td>\n",
       "      <td>MISCELLANEOUS</td>\n",
       "      <td>00:00:00</td>\n",
       "    </tr>\n",
       "  </tbody>\n",
       "</table>\n",
       "<p>5 rows × 23 columns</p>\n",
       "</div>"
      ],
      "text/plain": [
       "   fire_department_identification_number_fdid fire_department_name  \\\n",
       "0                                       33090        RIVERSIDE CFD   \n",
       "6                                       42015            LOMPOC FD   \n",
       "9                                       42015            LOMPOC FD   \n",
       "8                                       42015            LOMPOC FD   \n",
       "7                                       42015            LOMPOC FD   \n",
       "\n",
       "  incident_number  exposure_number  \\\n",
       "0              16                0   \n",
       "6         0000002                0   \n",
       "9         0000006                0   \n",
       "8         0000004                0   \n",
       "7         0000003                0   \n",
       "\n",
       "      nfirs_incidenttype_code_and_description         incident_name  year  \\\n",
       "0                    561 Unauthorized burning  CASTLEROCK TRL  MEAD  2013   \n",
       "6  142 Brush, or brush and grass mixture fire             not_named  2013   \n",
       "9  142 Brush, or brush and grass mixture fire             not_named  2013   \n",
       "8  142 Brush, or brush and grass mixture fire             not_named  2013   \n",
       "7  142 Brush, or brush and grass mixture fire             not_named  2013   \n",
       "\n",
       "  start_date    containment_date         county  ...    zip  \\\n",
       "0 2013-01-01 2013-01-01 00:27:00      Riverside  ...  92570   \n",
       "6 2013-01-01 2013-01-01 00:00:00  Santa Barbara  ...  93436   \n",
       "9 2013-01-01 2013-01-01 00:00:00  Santa Barbara  ...  93436   \n",
       "8 2013-01-01 2013-01-01 00:00:00  Santa Barbara  ...  93436   \n",
       "7 2013-01-01 2013-01-01 00:00:00  Santa Barbara  ...  93436   \n",
       "\n",
       "  cross_streets/directions/national_grid   latitude   longitude  \\\n",
       "0          21540 BLK DAWES ST, 21500 BLK  33.840233 -117.286983   \n",
       "6                                    NaN   0.000000    0.000000   \n",
       "9                                    NaN   0.000000    0.000000   \n",
       "8                                    NaN   0.000000    0.000000   \n",
       "7                                    NaN   0.000000    0.000000   \n",
       "\n",
       "  total_injuries  total_fatalities  estimated_property/contents_loss  \\\n",
       "0              0                 0                                 0   \n",
       "6              0                 0                                 0   \n",
       "9              0                 0                                 0   \n",
       "8              0                 0                                 0   \n",
       "7              0                 0                                 0   \n",
       "\n",
       "   total_acres_burned          cause  burn_duration  \n",
       "0                 1.0       CAMPFIRE       00:27:00  \n",
       "6                 0.0  MISCELLANEOUS       00:00:00  \n",
       "9                 0.0  MISCELLANEOUS       00:00:00  \n",
       "8                 0.0  MISCELLANEOUS       00:00:00  \n",
       "7                 0.0  MISCELLANEOUS       00:00:00  \n",
       "\n",
       "[5 rows x 23 columns]"
      ]
     },
     "execution_count": 153,
     "metadata": {},
     "output_type": "execute_result"
    }
   ],
   "source": [
    "df.head()"
   ]
  },
  {
   "cell_type": "code",
   "execution_count": null,
   "metadata": {},
   "outputs": [],
   "source": []
  },
  {
   "cell_type": "code",
   "execution_count": 42,
   "metadata": {},
   "outputs": [
    {
     "data": {
      "image/png": "[encoded data removed]",
      "text/plain": [
       "<Figure size 432x288 with 9 Axes>"
      ]
     },
     "metadata": {
      "image/png": {
       "height": 263,
       "width": 398
      },
      "needs_background": "light"
     },
     "output_type": "display_data"
    }
   ],
   "source": [
    "# pd.get_dummies(df['total_fatalities'], drop_first=True).hist();"
   ]
  },
  {
   "cell_type": "code",
   "execution_count": 191,
   "metadata": {},
   "outputs": [
    {
     "data": {
      "text/plain": [
       "10"
      ]
     },
     "execution_count": 191,
     "metadata": {},
     "output_type": "execute_result"
    }
   ],
   "source": [
    "df['nfirs_incidenttype_code_and_description'].nunique()"
   ]
  },
  {
   "cell_type": "code",
   "execution_count": null,
   "metadata": {},
   "outputs": [],
   "source": []
  },
  {
   "cell_type": "code",
   "execution_count": 36,
   "metadata": {},
   "outputs": [
    {
     "data": {
      "image/png": "[encoded data removed]",
      "text/plain": [
       "<Figure size 864x432 with 1 Axes>"
      ]
     },
     "metadata": {
      "image/png": {
       "height": 372,
       "width": 895
      },
      "needs_background": "light"
     },
     "output_type": "display_data"
    }
   ],
   "source": [
    "plt.figure(figsize=(12,6))\n",
    "\n",
    "df['type_description'].value_counts().plot(kind='barh');\n",
    "plt.title('Fires By Cause')\n",
    "plt.show()"
   ]
  },
  {
   "cell_type": "markdown",
   "metadata": {},
   "source": [
    "Setting the index on this dataframe to the timeseries. I'll pick this up in a different notebook."
   ]
  },
  {
   "cell_type": "code",
   "execution_count": 57,
   "metadata": {},
   "outputs": [],
   "source": [
    "df_timeseries = df.set_index('start_date')"
   ]
  },
  {
   "cell_type": "code",
   "execution_count": 60,
   "metadata": {},
   "outputs": [],
   "source": [
    "df_timeseries.to_csv('./Cal_Fire/df_timeseries')"
   ]
  },
  {
   "cell_type": "code",
   "execution_count": null,
   "metadata": {},
   "outputs": [],
   "source": []
  },
  {
   "cell_type": "code",
   "execution_count": 71,
   "metadata": {},
   "outputs": [
    {
     "ename": "AttributeError",
     "evalue": "'Series' object has no attribute 'year'",
     "output_type": "error",
     "traceback": [
      "\u001b[0;31m---------------------------------------------------------------------------\u001b[0m",
      "\u001b[0;31mAttributeError\u001b[0m                            Traceback (most recent call last)",
      "\u001b[0;32m<ipython-input-71-7c37c656e0c1>\u001b[0m in \u001b[0;36m<module>\u001b[0;34m\u001b[0m\n\u001b[0;32m----> 1\u001b[0;31m \u001b[0mdf\u001b[0m\u001b[0;34m.\u001b[0m\u001b[0mgroupby\u001b[0m\u001b[0;34m(\u001b[0m\u001b[0;34m(\u001b[0m\u001b[0mdf\u001b[0m\u001b[0;34m[\u001b[0m\u001b[0;34m\"start_date\"\u001b[0m\u001b[0;34m]\u001b[0m\u001b[0;34m.\u001b[0m\u001b[0myear\u001b[0m\u001b[0;34m)\u001b[0m \u001b[0;34m)\u001b[0m\u001b[0;34m.\u001b[0m\u001b[0mcount\u001b[0m\u001b[0;34m(\u001b[0m\u001b[0;34m)\u001b[0m\u001b[0;34m\u001b[0m\u001b[0;34m\u001b[0m\u001b[0m\n\u001b[0m",
      "\u001b[0;32m~/opt/anaconda3/lib/python3.7/site-packages/pandas/core/generic.py\u001b[0m in \u001b[0;36m__getattr__\u001b[0;34m(self, name)\u001b[0m\n\u001b[1;32m   5271\u001b[0m             \u001b[0;32mif\u001b[0m \u001b[0mself\u001b[0m\u001b[0;34m.\u001b[0m\u001b[0m_info_axis\u001b[0m\u001b[0;34m.\u001b[0m\u001b[0m_can_hold_identifiers_and_holds_name\u001b[0m\u001b[0;34m(\u001b[0m\u001b[0mname\u001b[0m\u001b[0;34m)\u001b[0m\u001b[0;34m:\u001b[0m\u001b[0;34m\u001b[0m\u001b[0;34m\u001b[0m\u001b[0m\n\u001b[1;32m   5272\u001b[0m                 \u001b[0;32mreturn\u001b[0m \u001b[0mself\u001b[0m\u001b[0;34m[\u001b[0m\u001b[0mname\u001b[0m\u001b[0;34m]\u001b[0m\u001b[0;34m\u001b[0m\u001b[0;34m\u001b[0m\u001b[0m\n\u001b[0;32m-> 5273\u001b[0;31m             \u001b[0;32mreturn\u001b[0m \u001b[0mobject\u001b[0m\u001b[0;34m.\u001b[0m\u001b[0m__getattribute__\u001b[0m\u001b[0;34m(\u001b[0m\u001b[0mself\u001b[0m\u001b[0;34m,\u001b[0m \u001b[0mname\u001b[0m\u001b[0;34m)\u001b[0m\u001b[0;34m\u001b[0m\u001b[0;34m\u001b[0m\u001b[0m\n\u001b[0m\u001b[1;32m   5274\u001b[0m \u001b[0;34m\u001b[0m\u001b[0m\n\u001b[1;32m   5275\u001b[0m     \u001b[0;32mdef\u001b[0m \u001b[0m__setattr__\u001b[0m\u001b[0;34m(\u001b[0m\u001b[0mself\u001b[0m\u001b[0;34m,\u001b[0m \u001b[0mname\u001b[0m\u001b[0;34m:\u001b[0m \u001b[0mstr\u001b[0m\u001b[0;34m,\u001b[0m \u001b[0mvalue\u001b[0m\u001b[0;34m)\u001b[0m \u001b[0;34m->\u001b[0m \u001b[0;32mNone\u001b[0m\u001b[0;34m:\u001b[0m\u001b[0;34m\u001b[0m\u001b[0;34m\u001b[0m\u001b[0m\n",
      "\u001b[0;31mAttributeError\u001b[0m: 'Series' object has no attribute 'year'"
     ]
    }
   ],
   "source": [
    "df.groupby((df[\"start_date\"].year) ).count()"
   ]
  },
  {
   "cell_type": "code",
   "execution_count": 69,
   "metadata": {},
   "outputs": [
    {
     "data": {
      "image/png": "[encoded data removed]",
      "text/plain": [
       "<Figure size 432x288 with 1 Axes>"
      ]
     },
     "metadata": {
      "image/png": {
       "height": 248,
       "width": 362
      },
      "needs_background": "light"
     },
     "output_type": "display_data"
    }
   ],
   "source": [
    "df.groupby('type_description')['total_acres_burned'].sum().hist();"
   ]
  },
  {
   "cell_type": "code",
   "execution_count": 171,
   "metadata": {},
   "outputs": [],
   "source": [
    "\n",
    "# output to static HTML file\n",
    "output_file(\"line.html\")\n",
    "\n",
    "p = figure(plot_width=400, plot_height=400)\n",
    "\n",
    "# add a circle renderer with a size, color, and alpha\n",
    "p.circle(df['nfirs_incidenttype_code_and_description'], df['nfirs_incidenttype_code_and_description'], size=20, color=\"navy\", alpha=0.5)\n",
    "\n",
    "# show the results\n",
    "show(p)"
   ]
  },
  {
   "cell_type": "code",
   "execution_count": 170,
   "metadata": {},
   "outputs": [
    {
     "data": {
      "text/plain": [
       "134678"
      ]
     },
     "execution_count": 170,
     "metadata": {},
     "output_type": "execute_result"
    }
   ],
   "source": [
    "df['nfirs_incidenttype_code_and_description'].count()"
   ]
  },
  {
   "cell_type": "code",
   "execution_count": 221,
   "metadata": {},
   "outputs": [
    {
     "data": {
      "text/html": [
       "<div>\n",
       "<style scoped>\n",
       "    .dataframe tbody tr th:only-of-type {\n",
       "        vertical-align: middle;\n",
       "    }\n",
       "\n",
       "    .dataframe tbody tr th {\n",
       "        vertical-align: top;\n",
       "    }\n",
       "\n",
       "    .dataframe thead th {\n",
       "        text-align: right;\n",
       "    }\n",
       "</style>\n",
       "<table border=\"1\" class=\"dataframe\">\n",
       "  <thead>\n",
       "    <tr style=\"text-align: right;\">\n",
       "      <th></th>\n",
       "      <th>fire_department_identification_number_fdid</th>\n",
       "      <th>fire_department_name</th>\n",
       "      <th>incident_number</th>\n",
       "      <th>exposure_number</th>\n",
       "      <th>nfirs_incidenttype_code_and_description</th>\n",
       "      <th>incident_name</th>\n",
       "      <th>year</th>\n",
       "      <th>start_date</th>\n",
       "      <th>containment_date</th>\n",
       "      <th>county</th>\n",
       "      <th>...</th>\n",
       "      <th>zip</th>\n",
       "      <th>cross_streets_or_directions_or_national_grid</th>\n",
       "      <th>latitude</th>\n",
       "      <th>longitude</th>\n",
       "      <th>total_injuries</th>\n",
       "      <th>total_fatalities</th>\n",
       "      <th>estimated_property_or_contents_loss</th>\n",
       "      <th>total_acres_burned</th>\n",
       "      <th>cause</th>\n",
       "      <th>burn_duration</th>\n",
       "    </tr>\n",
       "  </thead>\n",
       "  <tbody>\n",
       "    <tr>\n",
       "      <th>1367</th>\n",
       "      <td>31010</td>\n",
       "      <td>AUBURN VFD</td>\n",
       "      <td>6001</td>\n",
       "      <td>0</td>\n",
       "      <td>143 Grass fire, includes fire confined to area</td>\n",
       "      <td>PARK</td>\n",
       "      <td>2013</td>\n",
       "      <td>2013-03-13</td>\n",
       "      <td>2013-03-13 00:00:00</td>\n",
       "      <td>Placer</td>\n",
       "      <td>...</td>\n",
       "      <td>95603</td>\n",
       "      <td>300 BLK RACETRACK ST, 199 BLK</td>\n",
       "      <td>38.889850</td>\n",
       "      <td>-121.080050</td>\n",
       "      <td>0</td>\n",
       "      <td>0</td>\n",
       "      <td>0</td>\n",
       "      <td>0.00</td>\n",
       "      <td>MISCELLANEOUS</td>\n",
       "      <td>00:00:00</td>\n",
       "    </tr>\n",
       "    <tr>\n",
       "      <th>3702</th>\n",
       "      <td>9555</td>\n",
       "      <td>CDF-EL DORADO</td>\n",
       "      <td>9939</td>\n",
       "      <td>0</td>\n",
       "      <td>141 Forest, woods, or wildland fire</td>\n",
       "      <td>PARK</td>\n",
       "      <td>2013</td>\n",
       "      <td>2013-05-03</td>\n",
       "      <td>2013-05-03 13:25:00</td>\n",
       "      <td>El Dorado</td>\n",
       "      <td>...</td>\n",
       "      <td>95726</td>\n",
       "      <td>4300 BLK LAKERIDGE DR, 7221 BL</td>\n",
       "      <td>38.739917</td>\n",
       "      <td>-120.565767</td>\n",
       "      <td>0</td>\n",
       "      <td>0</td>\n",
       "      <td>0</td>\n",
       "      <td>0.10</td>\n",
       "      <td>DEBRIS BURNING</td>\n",
       "      <td>13:25:00</td>\n",
       "    </tr>\n",
       "    <tr>\n",
       "      <th>4482</th>\n",
       "      <td>9555</td>\n",
       "      <td>CDF-EL DORADO</td>\n",
       "      <td>10832</td>\n",
       "      <td>0</td>\n",
       "      <td>142 Brush, or brush and grass mixture fire</td>\n",
       "      <td>PARK</td>\n",
       "      <td>2013</td>\n",
       "      <td>2013-05-13</td>\n",
       "      <td>2013-05-13 13:05:00</td>\n",
       "      <td>El Dorado</td>\n",
       "      <td>...</td>\n",
       "      <td>95726</td>\n",
       "      <td>Park Creek Rd</td>\n",
       "      <td>38.731667</td>\n",
       "      <td>-120.484883</td>\n",
       "      <td>0</td>\n",
       "      <td>0</td>\n",
       "      <td>0</td>\n",
       "      <td>0.10</td>\n",
       "      <td>MISCELLANEOUS</td>\n",
       "      <td>13:05:00</td>\n",
       "    </tr>\n",
       "    <tr>\n",
       "      <th>6304</th>\n",
       "      <td>37555</td>\n",
       "      <td>CDF-SAN DIEGO</td>\n",
       "      <td>11669</td>\n",
       "      <td>0</td>\n",
       "      <td>142 Brush, or brush and grass mixture fire</td>\n",
       "      <td>PARK</td>\n",
       "      <td>2013</td>\n",
       "      <td>2013-06-04</td>\n",
       "      <td>2013-06-04 12:30:00</td>\n",
       "      <td>San Diego</td>\n",
       "      <td>...</td>\n",
       "      <td>91906</td>\n",
       "      <td>PRIVATE RD, 2500 BLK LAKE SHOR</td>\n",
       "      <td>32.689717</td>\n",
       "      <td>-116.524967</td>\n",
       "      <td>0</td>\n",
       "      <td>0</td>\n",
       "      <td>0</td>\n",
       "      <td>0.25</td>\n",
       "      <td>MISCELLANEOUS</td>\n",
       "      <td>12:30:00</td>\n",
       "    </tr>\n",
       "    <tr>\n",
       "      <th>6689</th>\n",
       "      <td>10032</td>\n",
       "      <td>FRESNO COUNTY FPD</td>\n",
       "      <td>7526</td>\n",
       "      <td>0</td>\n",
       "      <td>143 Grass fire, includes fire confined to area</td>\n",
       "      <td>PARK</td>\n",
       "      <td>2013</td>\n",
       "      <td>2013-06-09</td>\n",
       "      <td>2013-06-09 14:31:00</td>\n",
       "      <td>Fresno</td>\n",
       "      <td>...</td>\n",
       "      <td>93210</td>\n",
       "      <td>GALE</td>\n",
       "      <td>36.099783</td>\n",
       "      <td>-120.418500</td>\n",
       "      <td>0</td>\n",
       "      <td>0</td>\n",
       "      <td>0</td>\n",
       "      <td>1.00</td>\n",
       "      <td>ELECTRICAL POWER</td>\n",
       "      <td>14:31:00</td>\n",
       "    </tr>\n",
       "    <tr>\n",
       "      <th>...</th>\n",
       "      <td>...</td>\n",
       "      <td>...</td>\n",
       "      <td>...</td>\n",
       "      <td>...</td>\n",
       "      <td>...</td>\n",
       "      <td>...</td>\n",
       "      <td>...</td>\n",
       "      <td>...</td>\n",
       "      <td>...</td>\n",
       "      <td>...</td>\n",
       "      <td>...</td>\n",
       "      <td>...</td>\n",
       "      <td>...</td>\n",
       "      <td>...</td>\n",
       "      <td>...</td>\n",
       "      <td>...</td>\n",
       "      <td>...</td>\n",
       "      <td>...</td>\n",
       "      <td>...</td>\n",
       "      <td>...</td>\n",
       "      <td>...</td>\n",
       "    </tr>\n",
       "    <tr>\n",
       "      <th>123403</th>\n",
       "      <td>33085</td>\n",
       "      <td>SAN JACINTO FD</td>\n",
       "      <td>0086633</td>\n",
       "      <td>0</td>\n",
       "      <td>142 Brush, or brush and grass mixture fire</td>\n",
       "      <td>PARK</td>\n",
       "      <td>2019</td>\n",
       "      <td>2019-07-07</td>\n",
       "      <td>2019-07-07 18:00:00</td>\n",
       "      <td>Riverside</td>\n",
       "      <td>...</td>\n",
       "      <td>92583</td>\n",
       "      <td>Park</td>\n",
       "      <td>33.763400</td>\n",
       "      <td>-116.948833</td>\n",
       "      <td>0</td>\n",
       "      <td>0</td>\n",
       "      <td>0</td>\n",
       "      <td>1.00</td>\n",
       "      <td>Playing with Fire</td>\n",
       "      <td>18:00:00</td>\n",
       "    </tr>\n",
       "    <tr>\n",
       "      <th>124607</th>\n",
       "      <td>4555</td>\n",
       "      <td>CDF-BUTTE</td>\n",
       "      <td>0008525</td>\n",
       "      <td>0</td>\n",
       "      <td>143 Grass fire, includes fire confined to area</td>\n",
       "      <td>PARK</td>\n",
       "      <td>2019</td>\n",
       "      <td>2019-07-19</td>\n",
       "      <td>2019-07-19 17:30:00</td>\n",
       "      <td>Butte</td>\n",
       "      <td>...</td>\n",
       "      <td>95966</td>\n",
       "      <td>Btwn: 1299 BLK DUNSTONE DR and</td>\n",
       "      <td>39.627333</td>\n",
       "      <td>-121.787333</td>\n",
       "      <td>0</td>\n",
       "      <td>0</td>\n",
       "      <td>0</td>\n",
       "      <td>13.60</td>\n",
       "      <td>Undetermined</td>\n",
       "      <td>17:30:00</td>\n",
       "    </tr>\n",
       "    <tr>\n",
       "      <th>126112</th>\n",
       "      <td>9555</td>\n",
       "      <td>CDF-EL DORADO</td>\n",
       "      <td>0023567</td>\n",
       "      <td>0</td>\n",
       "      <td>143 Grass fire, includes fire confined to area</td>\n",
       "      <td>PARK</td>\n",
       "      <td>2019</td>\n",
       "      <td>2019-08-04</td>\n",
       "      <td>2019-08-04 05:10:39</td>\n",
       "      <td>El Dorado</td>\n",
       "      <td>...</td>\n",
       "      <td>95762</td>\n",
       "      <td>Btwn:  DEAD-END and 312 BLK AR</td>\n",
       "      <td>38.660500</td>\n",
       "      <td>-121.081867</td>\n",
       "      <td>0</td>\n",
       "      <td>0</td>\n",
       "      <td>0</td>\n",
       "      <td>0.00</td>\n",
       "      <td>Miscellaneous</td>\n",
       "      <td>05:10:39</td>\n",
       "    </tr>\n",
       "    <tr>\n",
       "      <th>131308</th>\n",
       "      <td>33070</td>\n",
       "      <td>PERRIS FD</td>\n",
       "      <td>0131228</td>\n",
       "      <td>0</td>\n",
       "      <td>143 Grass fire, includes fire confined to area</td>\n",
       "      <td>PARK</td>\n",
       "      <td>2019</td>\n",
       "      <td>2019-10-12</td>\n",
       "      <td>2019-10-12 15:35:00</td>\n",
       "      <td>Riverside</td>\n",
       "      <td>...</td>\n",
       "      <td>92570</td>\n",
       "      <td>Btwn: 500 BLK W 4TH ST and 500</td>\n",
       "      <td>33.775000</td>\n",
       "      <td>-117.236667</td>\n",
       "      <td>0</td>\n",
       "      <td>0</td>\n",
       "      <td>0</td>\n",
       "      <td>1.30</td>\n",
       "      <td>Arson</td>\n",
       "      <td>15:35:00</td>\n",
       "    </tr>\n",
       "    <tr>\n",
       "      <th>131711</th>\n",
       "      <td>43555</td>\n",
       "      <td>CDF-SANTA CLARA</td>\n",
       "      <td>0007607</td>\n",
       "      <td>0</td>\n",
       "      <td>143 Grass fire, includes fire confined to area</td>\n",
       "      <td>PARK</td>\n",
       "      <td>2019</td>\n",
       "      <td>2019-10-19</td>\n",
       "      <td>2019-10-19 18:28:16</td>\n",
       "      <td>Santa Clara</td>\n",
       "      <td>...</td>\n",
       "      <td>95119</td>\n",
       "      <td>298 BERNAL RD / HEATON MOOR DR</td>\n",
       "      <td>37.212650</td>\n",
       "      <td>-121.775633</td>\n",
       "      <td>0</td>\n",
       "      <td>0</td>\n",
       "      <td>0</td>\n",
       "      <td>2.00</td>\n",
       "      <td>Electrical Power</td>\n",
       "      <td>18:28:16</td>\n",
       "    </tr>\n",
       "  </tbody>\n",
       "</table>\n",
       "<p>72 rows × 23 columns</p>\n",
       "</div>"
      ],
      "text/plain": [
       "        fire_department_identification_number_fdid fire_department_name  \\\n",
       "1367                                         31010           AUBURN VFD   \n",
       "3702                                          9555        CDF-EL DORADO   \n",
       "4482                                          9555        CDF-EL DORADO   \n",
       "6304                                         37555        CDF-SAN DIEGO   \n",
       "6689                                         10032    FRESNO COUNTY FPD   \n",
       "...                                            ...                  ...   \n",
       "123403                                       33085       SAN JACINTO FD   \n",
       "124607                                        4555            CDF-BUTTE   \n",
       "126112                                        9555        CDF-EL DORADO   \n",
       "131308                                       33070            PERRIS FD   \n",
       "131711                                       43555      CDF-SANTA CLARA   \n",
       "\n",
       "       incident_number  exposure_number  \\\n",
       "1367              6001                0   \n",
       "3702              9939                0   \n",
       "4482             10832                0   \n",
       "6304             11669                0   \n",
       "6689              7526                0   \n",
       "...                ...              ...   \n",
       "123403         0086633                0   \n",
       "124607         0008525                0   \n",
       "126112         0023567                0   \n",
       "131308         0131228                0   \n",
       "131711         0007607                0   \n",
       "\n",
       "               nfirs_incidenttype_code_and_description incident_name  year  \\\n",
       "1367    143 Grass fire, includes fire confined to area          PARK  2013   \n",
       "3702               141 Forest, woods, or wildland fire          PARK  2013   \n",
       "4482        142 Brush, or brush and grass mixture fire          PARK  2013   \n",
       "6304        142 Brush, or brush and grass mixture fire          PARK  2013   \n",
       "6689    143 Grass fire, includes fire confined to area          PARK  2013   \n",
       "...                                                ...           ...   ...   \n",
       "123403      142 Brush, or brush and grass mixture fire          PARK  2019   \n",
       "124607  143 Grass fire, includes fire confined to area          PARK  2019   \n",
       "126112  143 Grass fire, includes fire confined to area          PARK  2019   \n",
       "131308  143 Grass fire, includes fire confined to area          PARK  2019   \n",
       "131711  143 Grass fire, includes fire confined to area          PARK  2019   \n",
       "\n",
       "       start_date    containment_date       county  ...    zip  \\\n",
       "1367   2013-03-13 2013-03-13 00:00:00       Placer  ...  95603   \n",
       "3702   2013-05-03 2013-05-03 13:25:00    El Dorado  ...  95726   \n",
       "4482   2013-05-13 2013-05-13 13:05:00    El Dorado  ...  95726   \n",
       "6304   2013-06-04 2013-06-04 12:30:00    San Diego  ...  91906   \n",
       "6689   2013-06-09 2013-06-09 14:31:00       Fresno  ...  93210   \n",
       "...           ...                 ...          ...  ...    ...   \n",
       "123403 2019-07-07 2019-07-07 18:00:00    Riverside  ...  92583   \n",
       "124607 2019-07-19 2019-07-19 17:30:00        Butte  ...  95966   \n",
       "126112 2019-08-04 2019-08-04 05:10:39    El Dorado  ...  95762   \n",
       "131308 2019-10-12 2019-10-12 15:35:00    Riverside  ...  92570   \n",
       "131711 2019-10-19 2019-10-19 18:28:16  Santa Clara  ...  95119   \n",
       "\n",
       "       cross_streets_or_directions_or_national_grid   latitude   longitude  \\\n",
       "1367                  300 BLK RACETRACK ST, 199 BLK  38.889850 -121.080050   \n",
       "3702                 4300 BLK LAKERIDGE DR, 7221 BL  38.739917 -120.565767   \n",
       "4482                                  Park Creek Rd  38.731667 -120.484883   \n",
       "6304                 PRIVATE RD, 2500 BLK LAKE SHOR  32.689717 -116.524967   \n",
       "6689                                           GALE  36.099783 -120.418500   \n",
       "...                                             ...        ...         ...   \n",
       "123403                                         Park  33.763400 -116.948833   \n",
       "124607               Btwn: 1299 BLK DUNSTONE DR and  39.627333 -121.787333   \n",
       "126112               Btwn:  DEAD-END and 312 BLK AR  38.660500 -121.081867   \n",
       "131308               Btwn: 500 BLK W 4TH ST and 500  33.775000 -117.236667   \n",
       "131711               298 BERNAL RD / HEATON MOOR DR  37.212650 -121.775633   \n",
       "\n",
       "       total_injuries  total_fatalities  estimated_property_or_contents_loss  \\\n",
       "1367                0                 0                                    0   \n",
       "3702                0                 0                                    0   \n",
       "4482                0                 0                                    0   \n",
       "6304                0                 0                                    0   \n",
       "6689                0                 0                                    0   \n",
       "...               ...               ...                                  ...   \n",
       "123403              0                 0                                    0   \n",
       "124607              0                 0                                    0   \n",
       "126112              0                 0                                    0   \n",
       "131308              0                 0                                    0   \n",
       "131711              0                 0                                    0   \n",
       "\n",
       "        total_acres_burned              cause  burn_duration  \n",
       "1367                  0.00      MISCELLANEOUS       00:00:00  \n",
       "3702                  0.10     DEBRIS BURNING       13:25:00  \n",
       "4482                  0.10      MISCELLANEOUS       13:05:00  \n",
       "6304                  0.25      MISCELLANEOUS       12:30:00  \n",
       "6689                  1.00   ELECTRICAL POWER       14:31:00  \n",
       "...                    ...                ...            ...  \n",
       "123403                1.00  Playing with Fire       18:00:00  \n",
       "124607               13.60       Undetermined       17:30:00  \n",
       "126112                0.00      Miscellaneous       05:10:39  \n",
       "131308                1.30              Arson       15:35:00  \n",
       "131711                2.00   Electrical Power       18:28:16  \n",
       "\n",
       "[72 rows x 23 columns]"
      ]
     },
     "execution_count": 221,
     "metadata": {},
     "output_type": "execute_result"
    }
   ],
   "source": [
    "df[df['incident_name'] == \"PARK\"]"
   ]
  },
  {
   "cell_type": "code",
   "execution_count": null,
   "metadata": {},
   "outputs": [],
   "source": []
  },
  {
   "cell_type": "code",
   "execution_count": null,
   "metadata": {},
   "outputs": [],
   "source": []
  },
  {
   "cell_type": "code",
   "execution_count": null,
   "metadata": {},
   "outputs": [],
   "source": []
  },
  {
   "cell_type": "code",
   "execution_count": null,
   "metadata": {},
   "outputs": [],
   "source": []
  },
  {
   "cell_type": "code",
   "execution_count": null,
   "metadata": {},
   "outputs": [],
   "source": []
  },
  {
   "cell_type": "code",
   "execution_count": 117,
   "metadata": {},
   "outputs": [
    {
     "data": {
      "text/plain": [
       "dtype('float64')"
      ]
     },
     "execution_count": 117,
     "metadata": {},
     "output_type": "execute_result"
    }
   ],
   "source": [
    "df.burn_duration.dtype"
   ]
  },
  {
   "cell_type": "code",
   "execution_count": 118,
   "metadata": {},
   "outputs": [],
   "source": [
    "df = df.loc[df.burn_duration>0]"
   ]
  },
  {
   "cell_type": "code",
   "execution_count": 119,
   "metadata": {},
   "outputs": [
    {
     "data": {
      "text/plain": [
       "1080.000000    331\n",
       "1020.000000    301\n",
       "960.000000     276\n",
       "900.000000     267\n",
       "930.000000     215\n",
       "              ... \n",
       "1207.166667      1\n",
       "508.500000       1\n",
       "30.366667        1\n",
       "1410.016667      1\n",
       "867.233333       1\n",
       "Name: burn_duration, Length: 6044, dtype: int64"
      ]
     },
     "execution_count": 119,
     "metadata": {},
     "output_type": "execute_result"
    }
   ],
   "source": [
    "df['burn_duration'].value_counts()"
   ]
  },
  {
   "cell_type": "code",
   "execution_count": 121,
   "metadata": {},
   "outputs": [
    {
     "data": {
      "text/plain": [
       "17.0"
      ]
     },
     "execution_count": 121,
     "metadata": {},
     "output_type": "execute_result"
    }
   ],
   "source": [
    "1020/60"
   ]
  },
  {
   "cell_type": "code",
   "execution_count": 122,
   "metadata": {},
   "outputs": [
    {
     "data": {
      "text/plain": [
       "(45605, 1405)"
      ]
     },
     "execution_count": 122,
     "metadata": {},
     "output_type": "execute_result"
    }
   ],
   "source": [
    "df.shape"
   ]
  },
  {
   "cell_type": "code",
   "execution_count": null,
   "metadata": {},
   "outputs": [],
   "source": []
  }
 ],
 "metadata": {
  "kernelspec": {
   "display_name": "Python 3",
   "language": "python",
   "name": "python3"
  },
  "language_info": {
   "codemirror_mode": {
    "name": "ipython",
    "version": 3
   },
   "file_extension": ".py",
   "mimetype": "text/x-python",
   "name": "python",
   "nbconvert_exporter": "python",
   "pygments_lexer": "ipython3",
   "version": "3.7.4"
  }
 },
 "nbformat": 4,
 "nbformat_minor": 4
}
